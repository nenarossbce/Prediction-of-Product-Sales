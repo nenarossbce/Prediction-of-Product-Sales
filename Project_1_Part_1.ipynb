{
  "nbformat": 4,
  "nbformat_minor": 0,
  "metadata": {
    "colab": {
      "provenance": [],
      "authorship_tag": "ABX9TyPJRbPnJpfvXCvp37SD2afV",
      "include_colab_link": true
    },
    "kernelspec": {
      "name": "python3",
      "display_name": "Python 3"
    },
    "language_info": {
      "name": "python"
    }
  },
  "cells": [
    {
      "cell_type": "markdown",
      "metadata": {
        "id": "view-in-github",
        "colab_type": "text"
      },
      "source": [
        "<a href=\"https://colab.research.google.com/github/nenarossbce/Prediction-of-Product-Sales/blob/main/Project_1_Part_1.ipynb\" target=\"_parent\"><img src=\"https://colab.research.google.com/assets/colab-badge.svg\" alt=\"Open In Colab\"/></a>"
      ]
    },
    {
      "cell_type": "markdown",
      "source": [
        "#**Prediction of Product Sales**\n",
        "\n",
        "Nena Esaw\n",
        "\n",
        "##**Project Overview**\n",
        "\n",
        "\n",
        "##**Load and Inspect Data**\n",
        "[Section title](#id)\n",
        "##**Clean Data**\n",
        "[Section title](#id)\n",
        "##**Exploratory Data Analysis** \n",
        "[Section title](#id)\n",
        "##**Explanatory Data Analysis**\n",
        "[Section title](#id)\n",
        "\n"
      ],
      "metadata": {
        "id": "CsIe3FrUhAfm"
      }
    }
  ]
}