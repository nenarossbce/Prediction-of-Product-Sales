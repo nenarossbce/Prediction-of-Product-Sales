{
  "nbformat": 4,
  "nbformat_minor": 0,
  "metadata": {
    "colab": {
      "provenance": [],
      "authorship_tag": "ABX9TyNQkVze/uUz2GmIcN9GLc0Q",
      "include_colab_link": true
    },
    "kernelspec": {
      "name": "python3",
      "display_name": "Python 3"
    },
    "language_info": {
      "name": "python"
    }
  },
  "cells": [
    {
      "cell_type": "markdown",
      "metadata": {
        "id": "view-in-github",
        "colab_type": "text"
      },
      "source": [
        "<a href=\"https://colab.research.google.com/github/nenarossbce/Prediction-of-Product-Sales/blob/main/Prediction_of_Product_Sales.ipynb\" target=\"_parent\"><img src=\"https://colab.research.google.com/assets/colab-badge.svg\" alt=\"Open In Colab\"/></a>"
      ]
    },
    {
      "cell_type": "markdown",
      "source": [
        "#**Prediction of Product Sales**\n",
        "\n",
        "Nena Esaw\n",
        "\n",
        "\n",
        "##**Project Overview**\n"
      ],
      "metadata": {
        "id": "X2keMy6vIEr6"
      }
    },
    {
      "cell_type": "markdown",
      "source": [
        "##**Load and Inspect Data**"
      ],
      "metadata": {
        "id": "HTlf9ppuKJTv"
      }
    },
    {
      "cell_type": "code",
      "source": [],
      "metadata": {
        "id": "5qr4Pl9hJ6j2"
      },
      "execution_count": null,
      "outputs": []
    },
    {
      "cell_type": "markdown",
      "source": [
        "##**Clean Data**"
      ],
      "metadata": {
        "id": "bTCPR8gpJ8IK"
      }
    },
    {
      "cell_type": "code",
      "source": [],
      "metadata": {
        "id": "zlTcnNRVKo65"
      },
      "execution_count": null,
      "outputs": []
    },
    {
      "cell_type": "markdown",
      "source": [
        "##**Exploratory Data Analysis**"
      ],
      "metadata": {
        "id": "0DfZ6JabKxUd"
      }
    },
    {
      "cell_type": "code",
      "source": [],
      "metadata": {
        "id": "jlgj_ylDK488"
      },
      "execution_count": null,
      "outputs": []
    },
    {
      "cell_type": "markdown",
      "source": [
        "##**Explanatory Data Analysis**"
      ],
      "metadata": {
        "id": "ZEImGYdcK6rI"
      }
    },
    {
      "cell_type": "code",
      "source": [],
      "metadata": {
        "id": "9Fo235__LAr5"
      },
      "execution_count": null,
      "outputs": []
    }
  ]
}