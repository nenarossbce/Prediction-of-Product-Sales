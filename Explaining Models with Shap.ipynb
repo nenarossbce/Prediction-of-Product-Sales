{
 "cells": [
  {
   "cell_type": "markdown",
   "id": "a4395dc2",
   "metadata": {},
   "source": [
    "# Explaining Models with Shap\n",
    "\n",
    "Nena Esaw"
   ]
  },
  {
   "cell_type": "markdown",
   "id": "21b55e1d",
   "metadata": {},
   "source": [
    "### Load Your Saved Joblib File"
   ]
  },
  {
   "cell_type": "markdown",
   "id": "530f8839",
   "metadata": {},
   "source": [
    "* In your notebook, load the contents of your \"best-models.joblib\" file into a variable called \"loaded_joblib.\"\n",
    "\n",
    "* Save each object from the loaded_joblib dictionary as a separate variable in your notebook. (e.g. \"X_train = loaded_joblib['X_train'])"
   ]
  },
  {
   "cell_type": "code",
   "execution_count": null,
   "id": "1ed0d7c8",
   "metadata": {},
   "outputs": [],
   "source": [
    "import joblib\n",
    "loaded = joblib.load('random_forest_l01.joblib')\n",
    "loaded.keys()"
   ]
  },
  {
   "cell_type": "code",
   "execution_count": null,
   "id": "7c93325c",
   "metadata": {},
   "outputs": [],
   "source": [
    "X_train_df = loaded['X_train']\n",
    "y_train = loaded['y_train']\n",
    "X_test_df = loaded['X_test']\n",
    "y_test = loaded['y_test']\n",
    "preprocessor = loaded['preprocessor']\n",
    "loaded_model = loaded['RandomForest']\n",
    "\n"
   ]
  },
  {
   "cell_type": "markdown",
   "id": "098b7d33",
   "metadata": {},
   "source": [
    "### Explain your tree-based model with shap\n",
    "\n",
    "* Create an X_shap and y_shap variable from your training data (use shap.sample as needed).\n",
    "\n",
    "* Create a model explainer,\n",
    "\n",
    "* Calculate the shap values for your model.\n",
    "\n",
    "* Create a summary plot - with plot_type='bar':\n",
    "\n",
    "    * In a Markdown cell below, display your saved feature importance image (that you used in your README) and compare the most important features according to SHAP vs. your original feature importances.\n",
    "    \n",
    "        * Are they the same features in both? If not, what's different?\n",
    "        \n",
    "* Save your bar summary plot figure as a .png file inside your repository (you will need this for the final piece of this assignment - Update Your README).\n",
    "\n",
    "* Create a second summary plot - with plot_type='dot'\n",
    "    * In a markdown cell, interpret the top 3 most important features and how they influence your model's predictions.\n",
    "    \n",
    "    * Save your figure as a .png file inside your repository (you will need this for the final piece of this assignment - Update Your README)."
   ]
  },
  {
   "cell_type": "code",
   "execution_count": null,
   "id": "c754632e",
   "metadata": {},
   "outputs": [],
   "source": [
    "# Import shap and initialize javascript:\n",
    "import shap\n",
    "shap.initjs()\n"
   ]
  },
  {
   "cell_type": "markdown",
   "id": "cf81e39f",
   "metadata": {},
   "source": [
    "#### Create X_shap and y_shap variable from training data "
   ]
  },
  {
   "cell_type": "code",
   "execution_count": null,
   "id": "ffa88374",
   "metadata": {},
   "outputs": [],
   "source": [
    "X_shap = shap.sample(X_train_df, random_state=321)\n",
    "X_shap.head()\n"
   ]
  },
  {
   "cell_type": "code",
   "execution_count": null,
   "id": "3ba318fa",
   "metadata": {},
   "outputs": [],
   "source": [
    "## get the corresponding y-values\n",
    "y_shap = y_train.loc[X_shap.index]\n",
    "y_shap \n"
   ]
  },
  {
   "cell_type": "markdown",
   "id": "e4dfde8f",
   "metadata": {},
   "source": [
    "### Model Explainer"
   ]
  },
  {
   "cell_type": "code",
   "execution_count": null,
   "id": "0cb6d03a",
   "metadata": {},
   "outputs": [],
   "source": [
    "#create a shape explainer using random forest tree model \n",
    "explainer = shap.Explainer(rf_clf)\n",
    "explainer"
   ]
  },
  {
   "cell_type": "markdown",
   "id": "17135a41",
   "metadata": {},
   "source": [
    "#### Calculate the shap values for your model"
   ]
  },
  {
   "cell_type": "code",
   "execution_count": null,
   "id": "7c9bded3",
   "metadata": {},
   "outputs": [],
   "source": [
    "## Getting the shap values\n",
    "shap_values = explainer(X_shap,y_shap)\n",
    "type(shap_values)\n"
   ]
  },
  {
   "cell_type": "code",
   "execution_count": null,
   "id": "2b683d8d",
   "metadata": {},
   "outputs": [],
   "source": [
    "X_shap.shape"
   ]
  },
  {
   "cell_type": "code",
   "execution_count": null,
   "id": "de8afc3b",
   "metadata": {},
   "outputs": [],
   "source": [
    "shap_values.shape\n"
   ]
  },
  {
   "cell_type": "markdown",
   "id": "5c6a7ec8",
   "metadata": {},
   "source": [
    "#### Create a summary plot - with plot_type='bar'"
   ]
  },
  {
   "cell_type": "code",
   "execution_count": null,
   "id": "8b739b06",
   "metadata": {},
   "outputs": [],
   "source": [
    "shap.summary_plot(shap_vals,features= X_shap, plot_type='bar')\n"
   ]
  },
  {
   "cell_type": "code",
   "execution_count": null,
   "id": "8de2cb66",
   "metadata": {},
   "outputs": [],
   "source": [
    "saved feature importance image"
   ]
  },
  {
   "cell_type": "markdown",
   "id": "771c270a",
   "metadata": {},
   "source": [
    "Are they the same features in both? If not, what's different?"
   ]
  },
  {
   "cell_type": "markdown",
   "id": "dca68c34",
   "metadata": {},
   "source": [
    "#### Create a second summary plot - with plot_type='dot'"
   ]
  },
  {
   "cell_type": "code",
   "execution_count": null,
   "id": "0a26bfe6",
   "metadata": {},
   "outputs": [],
   "source": [
    "shap.summary_plot(shap_vals,X_shap)\n"
   ]
  },
  {
   "cell_type": "markdown",
   "id": "a5604dc5",
   "metadata": {},
   "source": [
    "Interpret the top 3 most important features and how they influence your model's predictions"
   ]
  },
  {
   "cell_type": "markdown",
   "id": "efccc1c6",
   "metadata": {},
   "source": [
    "# Local Explanations"
   ]
  },
  {
   "cell_type": "markdown",
   "id": "68a3ca29",
   "metadata": {},
   "source": [
    "Continue working in your model explanation notebook from the previous core assignment. Add a new \"Local Explanations\" header at the bottom and continue your work:\n",
    "\n",
    "Select at least 2 example rows based on the insights gained from your previous core assignments this week.\n",
    "Explain why you selected the examples that you did.\n",
    "If you're having trouble thinking of which type of examples to select, try selecting a store that had low sales ( one of the lowest values for your target) and one with high sales (the highest values for your target).\n",
    "For each example, produce :\n",
    "A Lime tabular explanation\n",
    "Interpret what features most heavily influenced the predictions, according to LIME.\n",
    "Save your figure as a .png file inside your repository (you will need this for the final piece of this assignment - Update Your README). Note: You will need to take a screenshot to save the lime explanation.\n",
    "An individual Force Plot\n",
    "Interpret what features most heavily influenced the predictions, according to SHAP.\n",
    "Save your figure as a .png file inside your repository (you will need this for the final piece of this assignment - Update Your README). Note: You will need to take a screenshot to save the individual force plot."
   ]
  },
  {
   "cell_type": "code",
   "execution_count": null,
   "id": "f2e79cfe",
   "metadata": {},
   "outputs": [],
   "source": []
  }
 ],
 "metadata": {
  "kernelspec": {
   "display_name": "Python (dojo-env)",
   "language": "python",
   "name": "dojo-env"
  },
  "language_info": {
   "codemirror_mode": {
    "name": "ipython",
    "version": 3
   },
   "file_extension": ".py",
   "mimetype": "text/x-python",
   "name": "python",
   "nbconvert_exporter": "python",
   "pygments_lexer": "ipython3",
   "version": "3.9.15"
  },
  "toc": {
   "base_numbering": 1,
   "nav_menu": {},
   "number_sections": false,
   "sideBar": true,
   "skip_h1_title": true,
   "title_cell": "Table of Contents",
   "title_sidebar": "Contents",
   "toc_cell": false,
   "toc_position": {},
   "toc_section_display": true,
   "toc_window_display": false
  }
 },
 "nbformat": 4,
 "nbformat_minor": 5
}
